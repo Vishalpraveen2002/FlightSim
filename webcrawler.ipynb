{
 "cells": [
  {
   "cell_type": "code",
   "execution_count": 22,
   "metadata": {},
   "outputs": [],
   "source": [
    "from openpyxl import load_workbook\n",
    "import requests\n",
    "from bs4 import BeautifulSoup"
   ]
  },
  {
   "cell_type": "code",
   "execution_count": 23,
   "metadata": {},
   "outputs": [],
   "source": [
    "filename = \"C:\\\\Users\\\\HP\\\\OneDrive\\\\Desktop\\\\python\\\\IEEE CS website\\\\flights-dataset.xlsx\"\n",
    "\n",
    "wb = load_workbook(filename)\n",
    "ws = wb.worksheets[0]"
   ]
  },
  {
   "cell_type": "code",
   "execution_count": 24,
   "metadata": {},
   "outputs": [
    {
     "name": "stdout",
     "output_type": "stream",
     "text": [
      "192\n"
     ]
    }
   ],
   "source": [
    "html_text = requests.get(\"https://www.delhiairport.com/igi-indira-gandhi-arrivals?tp=18\").text\n",
    "soup = BeautifulSoup(html_text, 'lxml')\n",
    "origin = soup.find_all(\"div\", class_=\"flight-col flight-col__dest-term\")\n",
    "arrival = soup.find_all(\"div\", class_=\"flight-col flight-col__hour\")\n",
    "flights = soup.find_all(\"div\", class_=\"flight-col flight-col__flight\")\n",
    "airline = soup.find_all(\"div\", class_=\"flight-col flight-col__airline\")\n",
    "terminal = soup.find_all(\"div\", class_=\"flight-col flight-col__terminal\")\n",
    "status = soup.find_all(\"div\", \"flight-col flight-col__status\")\n",
    "global j\n",
    "\n",
    "for i in range(1, len(origin)):\n",
    "    ws[\"A\"+str(6276+66+156+189+i)] = origin[i].text\n",
    "    j=i\n",
    "\n",
    "for i in range(1, len(arrival)):\n",
    "    ws[\"B\"+str(6276+66+156+189+i)] = arrival[i].text\n",
    "\n",
    "for i in range(1, len(flights)):\n",
    "    ws[\"C\"+str(6276+66+156+189+i)] = flights[i].text\n",
    "\n",
    "for i in range(1, len(airline)):\n",
    "    ws[\"D\"+str(6276+66+156+189+i)] = airline[i].text\n",
    "\n",
    "for i in range(1, len(terminal)):\n",
    "    ws[\"E\"+str(6276+66+156+189+i)] = terminal[i].text\n",
    "\n",
    "for i in range(1, len(status)):\n",
    "    ws[\"F\"+str(6276+66+156+189+i)] = terminal[i].text\n",
    "\n",
    "print(j)\n",
    "\n",
    "wb.save(filename)"
   ]
  },
  {
   "cell_type": "code",
   "execution_count": null,
   "metadata": {},
   "outputs": [],
   "source": []
  }
 ],
 "metadata": {
  "interpreter": {
   "hash": "f6246b25e200e4c5124e3e61789ac81350562f0761bbcf92ad9e48654207659c"
  },
  "kernelspec": {
   "display_name": "Python 3.9.0 64-bit",
   "language": "python",
   "name": "python3"
  },
  "language_info": {
   "codemirror_mode": {
    "name": "ipython",
    "version": 3
   },
   "file_extension": ".py",
   "mimetype": "text/x-python",
   "name": "python",
   "nbconvert_exporter": "python",
   "pygments_lexer": "ipython3",
   "version": "3.9.0"
  },
  "orig_nbformat": 4
 },
 "nbformat": 4,
 "nbformat_minor": 2
}
